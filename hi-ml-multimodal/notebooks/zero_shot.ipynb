{
 "cells": [
  {
   "cell_type": "markdown",
   "metadata": {},
   "source": [
    "# Sample Notebook for Zero-Shot Inference with BioViL\n",
    "This notebook walks through how to use CheXzero to perform zero-shot inference on a chest x-ray image dataset."
   ]
  },
  {
   "cell_type": "markdown",
   "metadata": {},
   "source": [
    "## Import Libraries"
   ]
  },
  {
   "cell_type": "code",
   "execution_count": 10,
   "metadata": {},
   "outputs": [
    {
     "name": "stdout",
     "output_type": "stream",
     "text": [
      "The autoreload extension is already loaded. To reload it, use:\n",
      "  %reload_ext autoreload\n"
     ]
    }
   ],
   "source": [
    "import os\n",
    "import numpy as np\n",
    "import pandas as pd\n",
    "from pathlib import Path\n",
    "from typing import List, Tuple, Optional\n",
    "\n",
    "import sys\n",
    "sys.path.append('../')\n",
    "\n",
    "from eval import evaluate, bootstrap\n",
    "from zero_shot import make, make_true_labels, run_softmax_eval\n",
    "\n",
    "%load_ext autoreload\n",
    "%autoreload 2"
   ]
  },
  {
   "cell_type": "markdown",
   "metadata": {},
   "source": [
    "## Directories and Constants"
   ]
  },
  {
   "cell_type": "code",
   "execution_count": 25,
   "metadata": {},
   "outputs": [
    {
     "name": "stdout",
     "output_type": "stream",
     "text": [
      "cxrs: ~/all_raw_data/padchest/images/44_cxr.h5\n",
      "labs: ~/all_raw_data/padchest/44_cxr_labels.csv\n",
      "model_dir: None, for now\n",
      "predictions_dir: predictions\n",
      "predications_dir_cached: predictions/cached\n",
      "label names: ['Atelectasis', 'Cardiomegaly', 'Consolidation', 'Edema', 'Enlarged Cardiomediastinum', 'Fracture', 'Lung Lesion', 'Lung Opacity', 'No Finding', 'Pleural Effusion', 'Pleural Other', 'Pneumonia', 'Pneumothorax', 'Support Devices']\n",
      "context_length: 77\n",
      "cxr_png_folder: ~/all_raw_data/padchest/images/\n"
     ]
    }
   ],
   "source": [
    "## Define Zero Shot Labels and Templates\n",
    "\n",
    "# ----- DIRECTORIES ------ #\n",
    "# Must... for some godforsaken reason be relative. \n",
    "cxr_filepath = '~/all_raw_data/padchest/images/44_cxr.h5' # h5 chest x-ray images\n",
    "cxr_png_folder = '~/all_raw_data/padchest/images/' # folder with pngs\n",
    "cxr_true_labels_path: Optional[str] = '~/all_raw_data/padchest/44_cxr_labels.csv' # labels\n",
    "model_dir = None # No model_dir\n",
    "predictions_dir = Path('./predictions/') # predictions\n",
    "cache_dir = predictions_dir / \"cached\" # cache of ensembled predictions\n",
    "context_length: int = 77\n",
    "\n",
    "# ------- LABELS ------  #\n",
    "# Define labels to query each image | will return a prediction for each label\n",
    "cxr_labels: List[str] = ['Atelectasis','Cardiomegaly', \n",
    "                         'Consolidation', 'Edema', 'Enlarged Cardiomediastinum', 'Fracture', 'Lung Lesion',\n",
    "                         'Lung Opacity', 'No Finding','Pleural Effusion', 'Pleural Other', 'Pneumonia', \n",
    "                         'Pneumothorax', 'Support Devices']\n",
    "\n",
    "# ---- TEMPLATES ----- # \n",
    "# Define set of templates | see Figure 1 for more details                        \n",
    "cxr_pair_template: Tuple[str] = (\"{}\", \"no {}\")\n",
    "\n",
    "# Sanity check to make sure our global variables are good\n",
    "print('cxrs:', cxr_filepath)\n",
    "print('labs:', cxr_true_labels_path)\n",
    "print('model_dir:', 'None, for now')\n",
    "print('predictions_dir:', predictions_dir)\n",
    "print('predications_dir_cached:', cache_dir)\n",
    "print('label names:', cxr_labels)\n",
    "print('context_length:', context_length)\n",
    "print('cxr_png_folder:', cxr_png_folder)\n",
    "\n",
    "RESIZE = 512\n",
    "CENTER_CROP_SIZE = 512"
   ]
  },
  {
   "cell_type": "markdown",
   "metadata": {},
   "source": [
    "## Run Inference"
   ]
  },
  {
   "cell_type": "code",
   "execution_count": 26,
   "metadata": {},
   "outputs": [],
   "source": [
    "\n",
    "from pathlib import Path\n",
    "\n",
    "from health_multimodal.text import get_cxr_bert_inference\n",
    "from health_multimodal.image import get_biovil_resnet_inference\n",
    "from health_multimodal.vlp import ImageTextInferenceEngine\n",
    "from health_multimodal.common.visualization import plot_phrase_grounding_similarity_map\n",
    "\n",
    "from PIL import Image"
   ]
  },
  {
   "cell_type": "code",
   "execution_count": 27,
   "metadata": {},
   "outputs": [],
   "source": [
    "# === Runs softmax eval for the biovil dataset\n",
    "def run_softmax_eval(model, loader, eval_labels: list, pair_template: tuple): \n",
    "    \"\"\"\n",
    "    Run softmax evaluation to obtain a single prediction from the model.\n",
    "    Inputs:\n",
    "        Model: ImageTextInferenceEngine\n",
    "        loader: (todo), DataSetLoader\n",
    "        eval_labels: list(str)\n",
    "        pair_template: (todo), tuple(str, str)\n",
    "    Outputs:\n",
    "        preds: list(list) where the first index is the row, and the second index is the label,\n",
    "        the value stored there is the softmax 'probability' of that condition\n",
    "    \"\"\"\n",
    "     # get pos and neg phrases\n",
    "    pos = pair_template[0]\n",
    "    neg = pair_template[1]\n",
    "    \n",
    "    eval_labels = pd.read_csv(eval_labels)\n",
    "    \n",
    "    preds= []\n",
    "    \n",
    "    for i, row in eval_labels.iterrows():\n",
    "        old_path = f\"{cxr_png_folder}/{row['ImageID']}\"\n",
    "        new_path = f\"{old_path.replace('.png', '.jpg')}\"\n",
    "        Image.open(old_path).convert('RGB').save(new_path)\n",
    "        \n",
    "        pred_labels = []\n",
    "        \n",
    "        for label in eval_labels.columns[2:5]:    \n",
    "            \n",
    "            positive_score = model.get_similarity_score_from_raw_data(\n",
    "                image_path=Path(new_path),\n",
    "                query_text=f'{label}')\n",
    "            \n",
    "            negative_score = model.get_similarity_score_from_raw_data(\n",
    "                image_path=Path(new_path),\n",
    "                query_text=f'no {label}')\n",
    "            \n",
    "            sum_pred = np.exp(positive_score) + np.exp(negative_score)\n",
    "            prob = np.exp(positive_score) / sum_pred\n",
    "            \n",
    "            pred_labels.append(prob)\n",
    "        preds.append(pred_labels)\n",
    "        \n",
    "        print(i, end='')\n",
    "        if i > 5:\n",
    "            return preds\n",
    "    return preds\n",
    "\n"
   ]
  },
  {
   "cell_type": "code",
   "execution_count": 28,
   "metadata": {},
   "outputs": [
    {
     "name": "stdout",
     "output_type": "stream",
     "text": [
      "Using downloaded and verified file: /tmp/biovil_image_resnet50_proj_size_128.pt\n"
     ]
    },
    {
     "ename": "FileNotFoundError",
     "evalue": "[Errno 2] No such file or directory: '~/all_raw_data/padchest/images//216840111366964012989926673512011103121309246_00-185-142.png'",
     "output_type": "error",
     "traceback": [
      "\u001b[0;31m---------------------------------------------------------------------------\u001b[0m",
      "\u001b[0;31mFileNotFoundError\u001b[0m                         Traceback (most recent call last)",
      "Cell \u001b[0;32mIn [28], line 28\u001b[0m\n\u001b[1;32m     24\u001b[0m     y_pred \u001b[39m=\u001b[39m run_softmax_eval(image_text_inference, \u001b[39mNone\u001b[39;00m, cxr_labels, cxr_pair_template)\n\u001b[1;32m     26\u001b[0m     \u001b[39mreturn\u001b[39;00m y_pred\n\u001b[0;32m---> 28\u001b[0m pred \u001b[39m=\u001b[39m ensemble_models(cxr_filepath, cxr_true_labels_path, cxr_pair_template)\n\u001b[1;32m     30\u001b[0m \u001b[39mprint\u001b[39m(pred)\n",
      "Cell \u001b[0;32mIn [28], line 24\u001b[0m, in \u001b[0;36mensemble_models\u001b[0;34m(cxr_filepath, cxr_labels, cxr_pair_template)\u001b[0m\n\u001b[1;32m     18\u001b[0m image_inference \u001b[39m=\u001b[39m get_biovil_resnet_inference()\n\u001b[1;32m     19\u001b[0m image_text_inference \u001b[39m=\u001b[39m ImageTextInferenceEngine(\n\u001b[1;32m     20\u001b[0m     image_inference_engine\u001b[39m=\u001b[39mimage_inference,\n\u001b[1;32m     21\u001b[0m     text_inference_engine\u001b[39m=\u001b[39mtext_inference,)\n\u001b[0;32m---> 24\u001b[0m y_pred \u001b[39m=\u001b[39m run_softmax_eval(image_text_inference, \u001b[39mNone\u001b[39;49;00m, cxr_labels, cxr_pair_template)\n\u001b[1;32m     26\u001b[0m \u001b[39mreturn\u001b[39;00m y_pred\n",
      "Cell \u001b[0;32mIn [27], line 25\u001b[0m, in \u001b[0;36mrun_softmax_eval\u001b[0;34m(model, loader, eval_labels, pair_template)\u001b[0m\n\u001b[1;32m     23\u001b[0m old_path \u001b[39m=\u001b[39m \u001b[39mf\u001b[39m\u001b[39m\"\u001b[39m\u001b[39m{\u001b[39;00mcxr_png_folder\u001b[39m}\u001b[39;00m\u001b[39m/\u001b[39m\u001b[39m{\u001b[39;00mrow[\u001b[39m'\u001b[39m\u001b[39mImageID\u001b[39m\u001b[39m'\u001b[39m]\u001b[39m}\u001b[39;00m\u001b[39m\"\u001b[39m\n\u001b[1;32m     24\u001b[0m new_path \u001b[39m=\u001b[39m \u001b[39mf\u001b[39m\u001b[39m\"\u001b[39m\u001b[39m{\u001b[39;00mold_path\u001b[39m.\u001b[39mreplace(\u001b[39m'\u001b[39m\u001b[39m.png\u001b[39m\u001b[39m'\u001b[39m, \u001b[39m'\u001b[39m\u001b[39m.jpg\u001b[39m\u001b[39m'\u001b[39m)\u001b[39m}\u001b[39;00m\u001b[39m\"\u001b[39m\n\u001b[0;32m---> 25\u001b[0m Image\u001b[39m.\u001b[39;49mopen(old_path)\u001b[39m.\u001b[39mconvert(\u001b[39m'\u001b[39m\u001b[39mRGB\u001b[39m\u001b[39m'\u001b[39m)\u001b[39m.\u001b[39msave(new_path)\n\u001b[1;32m     27\u001b[0m pred_labels \u001b[39m=\u001b[39m []\n\u001b[1;32m     29\u001b[0m \u001b[39mfor\u001b[39;00m label \u001b[39min\u001b[39;00m eval_labels\u001b[39m.\u001b[39mcolumns[\u001b[39m2\u001b[39m:\u001b[39m5\u001b[39m]:    \n",
      "File \u001b[0;32m/opt/conda/envs/biovil/lib/python3.9/site-packages/PIL/Image.py:2953\u001b[0m, in \u001b[0;36mopen\u001b[0;34m(fp, mode, formats)\u001b[0m\n\u001b[1;32m   2950\u001b[0m     filename \u001b[39m=\u001b[39m fp\n\u001b[1;32m   2952\u001b[0m \u001b[39mif\u001b[39;00m filename:\n\u001b[0;32m-> 2953\u001b[0m     fp \u001b[39m=\u001b[39m builtins\u001b[39m.\u001b[39;49mopen(filename, \u001b[39m\"\u001b[39;49m\u001b[39mrb\u001b[39;49m\u001b[39m\"\u001b[39;49m)\n\u001b[1;32m   2954\u001b[0m     exclusive_fp \u001b[39m=\u001b[39m \u001b[39mTrue\u001b[39;00m\n\u001b[1;32m   2956\u001b[0m \u001b[39mtry\u001b[39;00m:\n",
      "\u001b[0;31mFileNotFoundError\u001b[0m: [Errno 2] No such file or directory: '~/all_raw_data/padchest/images//216840111366964012989926673512011103121309246_00-185-142.png'"
     ]
    }
   ],
   "source": [
    "\n",
    "## Run the model on the data set using ensembled models\n",
    "def ensemble_models(\n",
    "    cxr_filepath: str, \n",
    "    cxr_labels: List[str], \n",
    "    cxr_pair_template: Tuple[str], \n",
    ") -> Tuple[List[np.ndarray], np.ndarray]: \n",
    "    \"\"\"\n",
    "    Input: \n",
    "        cxr_filepath: (str) path to h5\n",
    "        cxr_labels: list(str) path to labels\n",
    "        cxr_pair_template: tuple (template prompt based on the labels)\n",
    "    Output:\n",
    "        pred: list(list) of preds for the cxr_labels\n",
    "    \"\"\"\n",
    "\n",
    "    # Get the biovil models\n",
    "    text_inference = get_cxr_bert_inference()\n",
    "    image_inference = get_biovil_resnet_inference()\n",
    "    image_text_inference = ImageTextInferenceEngine(\n",
    "        image_inference_engine=image_inference,\n",
    "        text_inference_engine=text_inference,)\n",
    "    \n",
    "    \n",
    "    y_pred = run_softmax_eval(image_text_inference, None, cxr_labels, cxr_pair_template)\n",
    "       \n",
    "    return y_pred\n",
    "\n",
    "pred = ensemble_models(cxr_filepath, cxr_true_labels_path, cxr_pair_template)\n",
    "\n",
    "print(pred)"
   ]
  },
  {
   "cell_type": "code",
   "execution_count": 18,
   "metadata": {},
   "outputs": [
    {
     "ename": "NameError",
     "evalue": "name 'pred' is not defined",
     "output_type": "error",
     "traceback": [
      "\u001b[0;31m---------------------------------------------------------------------------\u001b[0m",
      "\u001b[0;31mNameError\u001b[0m                                 Traceback (most recent call last)",
      "Cell \u001b[0;32mIn [18], line 1\u001b[0m\n\u001b[0;32m----> 1\u001b[0m \u001b[39mfor\u001b[39;00m p \u001b[39min\u001b[39;00m pred:\n\u001b[1;32m      2\u001b[0m     \u001b[39mprint\u001b[39m(p)\n",
      "\u001b[0;31mNameError\u001b[0m: name 'pred' is not defined"
     ]
    }
   ],
   "source": [
    "for p in pred:\n",
    "    print(p)"
   ]
  },
  {
   "cell_type": "markdown",
   "metadata": {},
   "source": [
    "## (Optional) Evaluate Results\n",
    "If ground truth labels are available, compute AUC on each pathology to evaluate the performance of the zero-shot model. "
   ]
  },
  {
   "cell_type": "code",
   "execution_count": null,
   "metadata": {},
   "outputs": [
    {
     "name": "stdout",
     "output_type": "stream",
     "text": [
      "path /home/ubuntu/cs197_initial_code_submission/CheXzero/data/padchest/2_cxr_labels.csv labs ['humeral fracture']\n",
      "4 2968 (2968, 1) ()\n"
     ]
    },
    {
     "ename": "IndexError",
     "evalue": "tuple index out of range",
     "output_type": "error",
     "traceback": [
      "\u001b[0;31m---------------------------------------------------------------------------\u001b[0m",
      "\u001b[0;31mIndexError\u001b[0m                                Traceback (most recent call last)",
      "Cell \u001b[0;32mIn [91], line 9\u001b[0m\n\u001b[1;32m      6\u001b[0m \u001b[39mprint\u001b[39m(test_true\u001b[39m.\u001b[39msum(), \u001b[39mlen\u001b[39m(test_true), test_true\u001b[39m.\u001b[39mshape, test_pred\u001b[39m.\u001b[39mshape)\n\u001b[1;32m      8\u001b[0m \u001b[39m# evaluate model\u001b[39;00m\n\u001b[0;32m----> 9\u001b[0m cxr_results \u001b[39m=\u001b[39m evaluate(test_pred, test_true, cxr_labels)\n\u001b[1;32m     11\u001b[0m \u001b[39m# boostrap evaluations for 95% confidence intervals\u001b[39;00m\n\u001b[1;32m     12\u001b[0m bootstrap_results \u001b[39m=\u001b[39m bootstrap(test_pred, test_true, cxr_labels)\n",
      "File \u001b[0;32m~/cs197_initial_code_submission/martin_CheXzero/CheXzero/notebooks/../eval.py:128\u001b[0m, in \u001b[0;36mevaluate\u001b[0;34m(y_pred, y_true, cxr_labels, roc_name, pr_name, label_idx_map)\u001b[0m\n\u001b[1;32m    125\u001b[0m     \u001b[39mimport\u001b[39;00m \u001b[39mwarnings\u001b[39;00m\n\u001b[1;32m    126\u001b[0m     warnings\u001b[39m.\u001b[39mfilterwarnings(\u001b[39m'\u001b[39m\u001b[39mignore\u001b[39m\u001b[39m'\u001b[39m)\n\u001b[0;32m--> 128\u001b[0m     num_classes \u001b[39m=\u001b[39m y_pred\u001b[39m.\u001b[39;49mshape[\u001b[39m-\u001b[39;49m\u001b[39m1\u001b[39;49m] \u001b[39m# number of total labels\u001b[39;00m\n\u001b[1;32m    130\u001b[0m     dataframes \u001b[39m=\u001b[39m []\n\u001b[1;32m    131\u001b[0m     \u001b[39mfor\u001b[39;00m i \u001b[39min\u001b[39;00m \u001b[39mrange\u001b[39m(num_classes): \n\u001b[1;32m    132\u001b[0m \u001b[39m#         print('{}.'.format(cxr_labels[i]))\u001b[39;00m\n",
      "\u001b[0;31mIndexError\u001b[0m: tuple index out of range"
     ]
    }
   ],
   "source": [
    "# make test_true\n",
    "test_pred = y_pred_avg\n",
    "print('path', cxr_true_labels_path, 'labs', cxr_labels)\n",
    "\n",
    "test_true = make_true_labels(cxr_true_labels_path=cxr_true_labels_path, cxr_labels=cxr_labels)\n",
    "print(test_true.sum(), len(test_true), test_true.shape, test_pred.shape)\n",
    "\n",
    "# evaluate model\n",
    "cxr_results = evaluate(test_pred, test_true, cxr_labels)\n",
    "\n",
    "# boostrap evaluations for 95% confidence intervals\n",
    "bootstrap_results = bootstrap(test_pred, test_true, cxr_labels)"
   ]
  },
  {
   "cell_type": "code",
   "execution_count": null,
   "metadata": {},
   "outputs": [
    {
     "ename": "NameError",
     "evalue": "name 'bootstrap_results' is not defined",
     "output_type": "error",
     "traceback": [
      "\u001b[0;31m---------------------------------------------------------------------------\u001b[0m",
      "\u001b[0;31mNameError\u001b[0m                                 Traceback (most recent call last)",
      "Cell \u001b[0;32mIn [17], line 2\u001b[0m\n\u001b[1;32m      1\u001b[0m \u001b[39m# display AUC with confidence intervals\u001b[39;00m\n\u001b[0;32m----> 2\u001b[0m bootstrap_results[\u001b[39m1\u001b[39m]\n",
      "\u001b[0;31mNameError\u001b[0m: name 'bootstrap_results' is not defined"
     ]
    }
   ],
   "source": [
    "# display AUC with confidence intervals\n",
    "bootstrap_results[1]"
   ]
  },
  {
   "cell_type": "code",
   "execution_count": null,
   "metadata": {},
   "outputs": [],
   "source": []
  }
 ],
 "metadata": {
  "kernelspec": {
   "display_name": "biovil",
   "language": "python",
   "name": "python3"
  },
  "language_info": {
   "codemirror_mode": {
    "name": "ipython",
    "version": 3
   },
   "file_extension": ".py",
   "mimetype": "text/x-python",
   "name": "python",
   "nbconvert_exporter": "python",
   "pygments_lexer": "ipython3",
   "version": "3.9.13"
  },
  "vscode": {
   "interpreter": {
    "hash": "40a7c3104bea93419b5a5f9395111224032ee64cdac98d0bfb43167b2cb6925c"
   }
  }
 },
 "nbformat": 4,
 "nbformat_minor": 2
}
