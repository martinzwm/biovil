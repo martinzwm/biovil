{
 "cells": [
  {
   "cell_type": "markdown",
   "metadata": {},
   "source": [
    "# Sample Notebook for Zero-Shot Inference with BioViL\n",
    "This notebook walks through how to use CheXzero to perform zero-shot inference on a chest x-ray image dataset."
   ]
  },
  {
   "cell_type": "markdown",
   "metadata": {},
   "source": [
    "## Import Libraries"
   ]
  },
  {
   "cell_type": "code",
   "execution_count": 4,
   "metadata": {},
   "outputs": [],
   "source": [
    "import os\n",
    "import numpy as np\n",
    "import pandas as pd\n",
    "from pathlib import Path\n",
    "from typing import List, Tuple, Optional\n",
    "\n",
    "import sys\n",
    "sys.path.append('../')\n",
    "\n",
    "from eval import evaluate, bootstrap\n",
    "from zero_shot import make, make_true_labels, run_softmax_eval\n",
    "\n",
    "%load_ext autoreload\n",
    "%autoreload 2"
   ]
  },
  {
   "cell_type": "markdown",
   "metadata": {},
   "source": [
    "## Directories and Constants"
   ]
  },
  {
   "cell_type": "code",
   "execution_count": 77,
   "metadata": {},
   "outputs": [
    {
     "name": "stdout",
     "output_type": "stream",
     "text": [
      "cxrs: ../../../../../../cs197_initial_code_submission/CheXzero/data/padchest/images/44_cxr.h5\n",
      "labs: ../../../../../../cs197_initial_code_submission/CheXzero/data/padchest/44_cxr_labels.csv\n",
      "model_dir: None, for now\n",
      "predictions_dir: predictions\n",
      "predications_dir_cached: predictions/cached\n",
      "label names: ['Atelectasis', 'Cardiomegaly', 'Consolidation', 'Edema', 'Enlarged Cardiomediastinum', 'Fracture', 'Lung Lesion', 'Lung Opacity', 'No Finding', 'Pleural Effusion', 'Pleural Other', 'Pneumonia', 'Pneumothorax', 'Support Devices']\n",
      "context_length: 77\n"
     ]
    }
   ],
   "source": [
    "## Define Zero Shot Labels and Templates\n",
    "\n",
    "# ----- DIRECTORIES ------ #\n",
    "# Must... for some godforsaken reason be relative. \n",
    "cxr_filepath = '../../../../../../cs197_initial_code_submission/CheXzero/data/padchest/images/44_cxr.h5' # h5 chest x-ray images\n",
    "cxr_png_folder = '../../../../../../cs197_initial_code_submission/AllRawData/padchest/44/' # folder with pngs\n",
    "cxr_true_labels_path: Optional[str] = '../../../../../../cs197_initial_code_submission/CheXzero/data/padchest/44_cxr_labels.csv' # labels\n",
    "\n",
    "model_dir = None # No model_dir\n",
    "\n",
    "predictions_dir = Path('./predictions/') # predictions\n",
    "cache_dir = predictions_dir / \"cached\" # cache of ensembled predictions\n",
    "\n",
    "context_length: int = 77\n",
    "\n",
    "# ------- LABELS ------  #\n",
    "# Define labels to query each image | will return a prediction for each label\n",
    "cxr_labels: List[str] = ['Atelectasis','Cardiomegaly', \n",
    "                         'Consolidation', 'Edema', 'Enlarged Cardiomediastinum', 'Fracture', 'Lung Lesion',\n",
    "                         'Lung Opacity', 'No Finding','Pleural Effusion', 'Pleural Other', 'Pneumonia', \n",
    "                         'Pneumothorax', 'Support Devices']\n",
    "\n",
    "# ---- TEMPLATES ----- # \n",
    "# Define set of templates | see Figure 1 for more details                        \n",
    "cxr_pair_template: Tuple[str] = (\"{}\", \"no {}\")\n",
    "\n",
    "# ----- MODEL PATHS ------ #\n",
    "# If using ensemble, collect all model paths\n",
    "# model_paths = []\n",
    "# for subdir, dirs, files in os.walk(model_dir):\n",
    "#     for file in files:\n",
    "#         full_dir = os.path.join(subdir, file)\n",
    "#         model_paths.append(full_dir)\n",
    "        \n",
    "# print(model_paths)\n",
    "\n",
    "# Sanity check to make sure our global variables are good\n",
    "print('cxrs:', cxr_filepath)\n",
    "print('labs:', cxr_true_labels_path)\n",
    "print('model_dir:', 'None, for now')\n",
    "print('predictions_dir:', predictions_dir)\n",
    "print('predications_dir_cached:', cache_dir)\n",
    "print('label names:', cxr_labels)\n",
    "print('context_length:', context_length)\n",
    "\n",
    "RESIZE = 512\n",
    "CENTER_CROP_SIZE = 512"
   ]
  },
  {
   "cell_type": "markdown",
   "metadata": {},
   "source": [
    "## Run Inference"
   ]
  },
  {
   "cell_type": "code",
   "execution_count": 78,
   "metadata": {},
   "outputs": [],
   "source": [
    "import tempfile\n",
    "from pathlib import Path\n",
    "\n",
    "import torch\n",
    "\n",
    "from health_multimodal.text import get_cxr_bert_inference\n",
    "from health_multimodal.image import get_biovil_resnet_inference\n",
    "from health_multimodal.vlp import ImageTextInferenceEngine\n",
    "from health_multimodal.common.visualization import plot_phrase_grounding_similarity_map"
   ]
  },
  {
   "cell_type": "code",
   "execution_count": 79,
   "metadata": {},
   "outputs": [
    {
     "ename": "NameError",
     "evalue": "name 'cxr_h5_path' is not defined",
     "output_type": "error",
     "traceback": [
      "\u001b[0;31m---------------------------------------------------------------------------\u001b[0m",
      "\u001b[0;31mNameError\u001b[0m                                 Traceback (most recent call last)",
      "\u001b[0;32m/tmp/ipykernel_28350/379771852.py\u001b[0m in \u001b[0;36m<module>\u001b[0;34m\u001b[0m\n\u001b[1;32m     35\u001b[0m \u001b[0;34m\u001b[0m\u001b[0m\n\u001b[1;32m     36\u001b[0m \u001b[0;34m\u001b[0m\u001b[0m\n\u001b[0;32m---> 37\u001b[0;31m \u001b[0msave_jpeg\u001b[0m\u001b[0;34m(\u001b[0m\u001b[0mcxr_filepath\u001b[0m\u001b[0;34m)\u001b[0m\u001b[0;34m\u001b[0m\u001b[0;34m\u001b[0m\u001b[0m\n\u001b[0m",
      "\u001b[0;32m/tmp/ipykernel_28350/379771852.py\u001b[0m in \u001b[0;36msave_jpeg\u001b[0;34m(cxr_true_labels_path)\u001b[0m\n\u001b[1;32m     23\u001b[0m \u001b[0;32mdef\u001b[0m \u001b[0msave_jpeg\u001b[0m\u001b[0;34m(\u001b[0m\u001b[0mcxr_true_labels_path\u001b[0m\u001b[0;34m)\u001b[0m\u001b[0;34m:\u001b[0m\u001b[0;34m\u001b[0m\u001b[0;34m\u001b[0m\u001b[0m\n\u001b[1;32m     24\u001b[0m \u001b[0;34m\u001b[0m\u001b[0m\n\u001b[0;32m---> 25\u001b[0;31m     \u001b[0mloader\u001b[0m \u001b[0;34m=\u001b[0m \u001b[0mmake_data_loader\u001b[0m\u001b[0;34m(\u001b[0m\u001b[0mcxr_h5_path\u001b[0m\u001b[0;34m)\u001b[0m\u001b[0;34m\u001b[0m\u001b[0;34m\u001b[0m\u001b[0m\n\u001b[0m\u001b[1;32m     26\u001b[0m     \u001b[0;32mfor\u001b[0m \u001b[0mi\u001b[0m\u001b[0;34m,\u001b[0m \u001b[0mdata\u001b[0m \u001b[0;32min\u001b[0m \u001b[0menumerate\u001b[0m\u001b[0;34m(\u001b[0m\u001b[0mloader\u001b[0m\u001b[0;34m)\u001b[0m\u001b[0;34m:\u001b[0m\u001b[0;34m\u001b[0m\u001b[0;34m\u001b[0m\u001b[0m\n\u001b[1;32m     27\u001b[0m \u001b[0;34m\u001b[0m\u001b[0m\n",
      "\u001b[0;31mNameError\u001b[0m: name 'cxr_h5_path' is not defined"
     ]
    }
   ],
   "source": [
    "# # === Makes a DataLoader ===\n",
    "# from torchvision.transforms import Compose, Normalize, Resize, InterpolationMode\n",
    "# from zero_shot import CXRTestDataset\n",
    "# import h5py\n",
    "# from PIL import Image\n",
    "\n",
    "# def make_data_loader(cxr_h5_path):\n",
    "#     transformations = [\n",
    "#         Normalize((101.48761, 101.48761, 101.48761), (83.43944, 83.43944, 83.43944)),\n",
    "#         Resize(224, interpolation=InterpolationMode.BICUBIC)\n",
    "#     ]\n",
    "#     transform = Compose(transformations)\n",
    "    \n",
    "#     dataset = CXRTestDataset(\n",
    "#         img_path=cxr_h5_path,\n",
    "#         transform=transform, \n",
    "#     )\n",
    "    \n",
    "#     return torch.utils.data.DataLoader(dataset, shuffle=False)\n",
    "\n",
    "# make_data_loader(cxr_filepath)\n",
    "\n",
    "# def save_jpeg(cxr_true_labels_path):\n",
    "    \n",
    "#     loader = make_data_loader(cxr_h5_path)\n",
    "#     for i, data in enumerate(loader):\n",
    "    \n",
    "#         images = np.transpose(data['img'].detach().numpy(), (0, 2, 3, 1)).squeeze() # (1, 3, 224, 224) => (1, 224, 224, 3) => (224, 224, 3)\n",
    "        \n",
    "#         pil_img = Image.fromarray(obj=images, mode='RGB')\n",
    "#         pil_img.show()\n",
    "                \n",
    "# save_jpeg(cxr_filepath)"
   ]
  },
  {
   "cell_type": "code",
   "execution_count": 106,
   "metadata": {},
   "outputs": [],
   "source": [
    "# === Runs  softmax eval\n",
    "def run_softmax_eval(model, loader, eval_labels: list, pair_template: tuple, context_length: int = 77): \n",
    "    \"\"\"\n",
    "    Run softmax evaluation to obtain a single prediction from the model.\n",
    "    \"\"\"\n",
    "     # get pos and neg phrases\n",
    "    pos = pair_template[0]\n",
    "    neg = pair_template[1]\n",
    "    \n",
    "    eval_labels = pd.read_csv(eval_labels)\n",
    "    \n",
    "    preds= []\n",
    "    \n",
    "    for i, row in eval_labels.iterrows():\n",
    "        old_path = f\"{cxr_png_folder}/{row['ImageID']}\"\n",
    "        new_path = f\"{old_path.replace('.png', '.jpg')}\"\n",
    "        Image.open(old_path).convert('RGB').save(new_path)\n",
    "        \n",
    "        pred_labels = []\n",
    "        \n",
    "        for label in eval_labels[:5]:    \n",
    "            \n",
    "            positive_score = model.get_similarity_score_from_raw_data(\n",
    "                image_path=Path(new_path),\n",
    "                query_text=f'{label}')\n",
    "            \n",
    "            negative_score = model.get_similarity_score_from_raw_data(\n",
    "                image_path=Path(new_path),\n",
    "                query_text=f'no {label}')\n",
    "            \n",
    "            sum_pred = np.exp(positive_score) + np.exp(negative_score)\n",
    "            prob = np.exp(positive_score) / sum_pred\n",
    "            \n",
    "            pred_labels.append(prob)\n",
    "        preds.append(pred_labels)\n",
    "        \n",
    "        print(i, end='')\n",
    "        if i > 50:\n",
    "            return\n",
    "    return preds\n",
    "\n"
   ]
  },
  {
   "cell_type": "code",
   "execution_count": 107,
   "metadata": {},
   "outputs": [
    {
     "name": "stdout",
     "output_type": "stream",
     "text": [
      "Using downloaded and verified file: /tmp/biovil_image_resnet50_proj_size_128.pt\n"
     ]
    }
   ],
   "source": [
    "\n",
    "## Run the model on the data set using ensembled models\n",
    "def ensemble_models(\n",
    "    cxr_filepath: str, \n",
    "    cxr_labels: List[str], \n",
    "    cxr_pair_template: Tuple[str], \n",
    ") -> Tuple[List[np.ndarray], np.ndarray]: \n",
    "    \"\"\"\n",
    "    Input: \n",
    "        -path to h5 and labels\n",
    "        -template (to make a prompt based on the labels)\n",
    "    Output:\n",
    "        -predictions of labels of the h5\n",
    "    \"\"\"\n",
    "\n",
    "    # Get the biovil models\n",
    "    text_inference = get_cxr_bert_inference()\n",
    "    image_inference = get_biovil_resnet_inference()\n",
    "    image_text_inference = ImageTextInferenceEngine(\n",
    "        image_inference_engine=image_inference,\n",
    "        text_inference_engine=text_inference,)\n",
    "    \n",
    "    \n",
    "    y_pred = run_softmax_eval(image_text_inference, None, cxr_labels, cxr_pair_template)\n",
    "       \n",
    "    return y_pred\n",
    "\n",
    "ensemble_models(cxr_filepath, cxr_true_labels_path, cxr_pair_template)"
   ]
  },
  {
   "cell_type": "code",
   "execution_count": 74,
   "metadata": {},
   "outputs": [
    {
     "ename": "NameError",
     "evalue": "name 'model_paths' is not defined",
     "output_type": "error",
     "traceback": [
      "\u001b[0;31m---------------------------------------------------------------------------\u001b[0m",
      "\u001b[0;31mNameError\u001b[0m                                 Traceback (most recent call last)",
      "\u001b[0;32m/tmp/ipykernel_28350/4020186917.py\u001b[0m in \u001b[0;36m<module>\u001b[0;34m\u001b[0m\n\u001b[1;32m      1\u001b[0m predictions, y_pred_avg = ensemble_models(\n\u001b[0;32m----> 2\u001b[0;31m     \u001b[0mmodel_paths\u001b[0m\u001b[0;34m=\u001b[0m\u001b[0mmodel_paths\u001b[0m\u001b[0;34m,\u001b[0m\u001b[0;34m\u001b[0m\u001b[0;34m\u001b[0m\u001b[0m\n\u001b[0m\u001b[1;32m      3\u001b[0m     \u001b[0mcxr_filepath\u001b[0m\u001b[0;34m=\u001b[0m\u001b[0mcxr_filepath\u001b[0m\u001b[0;34m,\u001b[0m\u001b[0;34m\u001b[0m\u001b[0;34m\u001b[0m\u001b[0m\n\u001b[1;32m      4\u001b[0m     \u001b[0mcxr_labels\u001b[0m\u001b[0;34m=\u001b[0m\u001b[0mcxr_labels\u001b[0m\u001b[0;34m,\u001b[0m\u001b[0;34m\u001b[0m\u001b[0;34m\u001b[0m\u001b[0m\n\u001b[1;32m      5\u001b[0m     \u001b[0mcxr_pair_template\u001b[0m\u001b[0;34m=\u001b[0m\u001b[0mcxr_pair_template\u001b[0m\u001b[0;34m,\u001b[0m\u001b[0;34m\u001b[0m\u001b[0;34m\u001b[0m\u001b[0m\n",
      "\u001b[0;31mNameError\u001b[0m: name 'model_paths' is not defined"
     ]
    }
   ],
   "source": [
    "predictions, y_pred_avg = ensemble_models(\n",
    "    model_paths=model_paths, \n",
    "    cxr_filepath=cxr_filepath, \n",
    "    cxr_labels=cxr_labels, \n",
    "    cxr_pair_template=cxr_pair_template, \n",
    "    cache_dir=cache_dir,\n",
    ")\n",
    "\n",
    "print(len(predictions))"
   ]
  },
  {
   "cell_type": "code",
   "execution_count": 90,
   "metadata": {},
   "outputs": [],
   "source": [
    "# save averaged preds\n",
    "pred_name = \"chexpert_preds.npy\" # add name of preds\n",
    "predictions_dir = predictions_dir / pred_name\n",
    "np.save(file=predictions_dir, arr=y_pred_avg)"
   ]
  },
  {
   "cell_type": "markdown",
   "metadata": {},
   "source": [
    "## (Optional) Evaluate Results\n",
    "If ground truth labels are available, compute AUC on each pathology to evaluate the performance of the zero-shot model. "
   ]
  },
  {
   "cell_type": "code",
   "execution_count": 91,
   "metadata": {},
   "outputs": [
    {
     "name": "stdout",
     "output_type": "stream",
     "text": [
      "path /home/ubuntu/cs197_initial_code_submission/CheXzero/data/padchest/2_cxr_labels.csv labs ['humeral fracture']\n",
      "4 2968 (2968, 1) ()\n"
     ]
    },
    {
     "ename": "IndexError",
     "evalue": "tuple index out of range",
     "output_type": "error",
     "traceback": [
      "\u001b[0;31m---------------------------------------------------------------------------\u001b[0m",
      "\u001b[0;31mIndexError\u001b[0m                                Traceback (most recent call last)",
      "Cell \u001b[0;32mIn [91], line 9\u001b[0m\n\u001b[1;32m      6\u001b[0m \u001b[39mprint\u001b[39m(test_true\u001b[39m.\u001b[39msum(), \u001b[39mlen\u001b[39m(test_true), test_true\u001b[39m.\u001b[39mshape, test_pred\u001b[39m.\u001b[39mshape)\n\u001b[1;32m      8\u001b[0m \u001b[39m# evaluate model\u001b[39;00m\n\u001b[0;32m----> 9\u001b[0m cxr_results \u001b[39m=\u001b[39m evaluate(test_pred, test_true, cxr_labels)\n\u001b[1;32m     11\u001b[0m \u001b[39m# boostrap evaluations for 95% confidence intervals\u001b[39;00m\n\u001b[1;32m     12\u001b[0m bootstrap_results \u001b[39m=\u001b[39m bootstrap(test_pred, test_true, cxr_labels)\n",
      "File \u001b[0;32m~/cs197_initial_code_submission/martin_CheXzero/CheXzero/notebooks/../eval.py:128\u001b[0m, in \u001b[0;36mevaluate\u001b[0;34m(y_pred, y_true, cxr_labels, roc_name, pr_name, label_idx_map)\u001b[0m\n\u001b[1;32m    125\u001b[0m     \u001b[39mimport\u001b[39;00m \u001b[39mwarnings\u001b[39;00m\n\u001b[1;32m    126\u001b[0m     warnings\u001b[39m.\u001b[39mfilterwarnings(\u001b[39m'\u001b[39m\u001b[39mignore\u001b[39m\u001b[39m'\u001b[39m)\n\u001b[0;32m--> 128\u001b[0m     num_classes \u001b[39m=\u001b[39m y_pred\u001b[39m.\u001b[39;49mshape[\u001b[39m-\u001b[39;49m\u001b[39m1\u001b[39;49m] \u001b[39m# number of total labels\u001b[39;00m\n\u001b[1;32m    130\u001b[0m     dataframes \u001b[39m=\u001b[39m []\n\u001b[1;32m    131\u001b[0m     \u001b[39mfor\u001b[39;00m i \u001b[39min\u001b[39;00m \u001b[39mrange\u001b[39m(num_classes): \n\u001b[1;32m    132\u001b[0m \u001b[39m#         print('{}.'.format(cxr_labels[i]))\u001b[39;00m\n",
      "\u001b[0;31mIndexError\u001b[0m: tuple index out of range"
     ]
    }
   ],
   "source": [
    "# make test_true\n",
    "test_pred = y_pred_avg\n",
    "print('path', cxr_true_labels_path, 'labs', cxr_labels)\n",
    "\n",
    "test_true = make_true_labels(cxr_true_labels_path=cxr_true_labels_path, cxr_labels=cxr_labels)\n",
    "print(test_true.sum(), len(test_true), test_true.shape, test_pred.shape)\n",
    "\n",
    "# evaluate model\n",
    "cxr_results = evaluate(test_pred, test_true, cxr_labels)\n",
    "\n",
    "# boostrap evaluations for 95% confidence intervals\n",
    "bootstrap_results = bootstrap(test_pred, test_true, cxr_labels)"
   ]
  },
  {
   "cell_type": "code",
   "execution_count": 17,
   "metadata": {},
   "outputs": [
    {
     "ename": "NameError",
     "evalue": "name 'bootstrap_results' is not defined",
     "output_type": "error",
     "traceback": [
      "\u001b[0;31m---------------------------------------------------------------------------\u001b[0m",
      "\u001b[0;31mNameError\u001b[0m                                 Traceback (most recent call last)",
      "Cell \u001b[0;32mIn [17], line 2\u001b[0m\n\u001b[1;32m      1\u001b[0m \u001b[39m# display AUC with confidence intervals\u001b[39;00m\n\u001b[0;32m----> 2\u001b[0m bootstrap_results[\u001b[39m1\u001b[39m]\n",
      "\u001b[0;31mNameError\u001b[0m: name 'bootstrap_results' is not defined"
     ]
    }
   ],
   "source": [
    "# display AUC with confidence intervals\n",
    "bootstrap_results[1]"
   ]
  },
  {
   "cell_type": "code",
   "execution_count": null,
   "metadata": {},
   "outputs": [],
   "source": []
  }
 ],
 "metadata": {
  "kernelspec": {
   "display_name": "Python 3.7.3 ('himl')",
   "language": "python",
   "name": "python3"
  },
  "language_info": {
   "codemirror_mode": {
    "name": "ipython",
    "version": 3
   },
   "file_extension": ".py",
   "mimetype": "text/x-python",
   "name": "python",
   "nbconvert_exporter": "python",
   "pygments_lexer": "ipython3",
   "version": "3.7.3"
  },
  "vscode": {
   "interpreter": {
    "hash": "c48aec12f4f5f87f80ac30d972dee118d6e59cb47bcf0c012588b4711bdc3917"
   }
  }
 },
 "nbformat": 4,
 "nbformat_minor": 2
}
