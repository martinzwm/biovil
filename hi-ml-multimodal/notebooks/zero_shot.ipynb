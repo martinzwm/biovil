{
 "cells": [
  {
   "cell_type": "markdown",
   "metadata": {},
   "source": [
    "# Sample Notebook for Zero-Shot Inference with BioViL\n",
    "This notebook walks through how to use CheXzero to perform zero-shot inference on a chest x-ray image dataset."
   ]
  },
  {
   "cell_type": "markdown",
   "metadata": {},
   "source": [
    "## Import Libraries"
   ]
  },
  {
   "cell_type": "code",
   "execution_count": 1,
   "metadata": {},
   "outputs": [],
   "source": [
    "import os\n",
    "import numpy as np\n",
    "import pandas as pd\n",
    "from pathlib import Path\n",
    "from typing import List, Tuple, Optional\n",
    "\n",
    "import sys\n",
    "sys.path.append('../')\n",
    "\n",
    "from eval import evaluate, bootstrap\n",
    "from zero_shot import make, make_true_labels, run_softmax_eval\n",
    "\n",
    "%load_ext autoreload\n",
    "%autoreload 2"
   ]
  },
  {
   "cell_type": "markdown",
   "metadata": {},
   "source": [
    "## Directories and Constants"
   ]
  },
  {
   "cell_type": "code",
   "execution_count": 2,
   "metadata": {},
   "outputs": [],
   "source": [
    "## Define Zero Shot Labels and Templates\n",
    "\n",
    "# ----- DIRECTORIES ------ #\n",
    "# Must... for some godforsaken reason be relative. \n",
    "cxr_filepath = '~/all_raw_data/padchest/images/44_cxr.h5' # h5 chest x-ray images\n",
    "cxr_png_folder = '/home/ec2-user/CHEXLOCALIZE/CheXpert/' # folder with pngs\n",
    "cxr_true_labels_path: Optional[str] = '/home/ec2-user/CHEXLOCALIZE/CheXpert/test_labels.csv' # labels\n",
    "model_dir = None # No model_dir\n",
    "predictions_dir = Path('./predictions/') # predictions\n",
    "cache_dir = predictions_dir / \"cached\" # cache of ensembled predictions\n",
    "context_length: int = 77\n",
    "\n",
    "# ------- LABELS ------  #\n",
    "# # Define labels to query each image | will return a prediction for each label\n",
    "# cxr_labels: List[str] = ['Atelectasis','Cardiomegaly', \n",
    "#                          'Consolidation', 'Edema', 'Enlarged Cardiomediastinum', 'Fracture', 'Lung Lesion',\n",
    "#                          'Lung Opacity', 'No Finding','Pleural Effusion', 'Pleural Other', 'Pneumonia', \n",
    "#                          'Pneumothorax', 'Support Devices']\n",
    "cxr_labels = ['No Finding', 'Enlarged Cardiomediastinum', 'Cardiomegaly',\n",
    "                'Lung Opacity', 'Lung Lesion', 'Edema', 'Consolidation', 'Pneumonia',\n",
    "                'Atelectasis', 'Pneumothorax', 'Pleural Effusion', 'Pleural Other',\n",
    "                'Fracture', 'Support Devices']\n",
    "\n",
    "# ---- TEMPLATES ----- # \n",
    "# Define set of templates | see Figure 1 for more details                        \n",
    "cxr_pair_template: Tuple[str] = (\"{}\", \"no {}\")\n",
    "\n",
    "# # Sanity check to make sure our global variables are good\n",
    "# print('labs:', cxr_true_labels_path)\n",
    "# print('model_dir:', 'None, for now')\n",
    "# print('predictions_dir:', predictions_dir)\n",
    "# print('predications_dir_cached:', cache_dir)\n",
    "# print('label names:', cxr_labels)\n",
    "# print('context_length:', context_length)\n",
    "# print('cxr_png_folder:', cxr_png_folder)\n",
    "\n",
    "RESIZE = 512\n",
    "CENTER_CROP_SIZE = 512"
   ]
  },
  {
   "cell_type": "markdown",
   "metadata": {},
   "source": [
    "## Run Inference"
   ]
  },
  {
   "cell_type": "code",
   "execution_count": 3,
   "metadata": {},
   "outputs": [],
   "source": [
    "\n",
    "from pathlib import Path\n",
    "\n",
    "from health_multimodal.text import get_cxr_bert_inference\n",
    "from health_multimodal.image import get_biovil_resnet_inference\n",
    "from health_multimodal.vlp import ImageTextInferenceEngine\n",
    "from health_multimodal.common.visualization import plot_phrase_grounding_similarity_map\n",
    "\n",
    "from PIL import Image"
   ]
  },
  {
   "cell_type": "code",
   "execution_count": 4,
   "metadata": {},
   "outputs": [],
   "source": [
    "# === Runs softmax eval for the biovil dataset\n",
    "def run_softmax_eval(model, loader, cxr_true_labels_path, eval_labels: list, pair_template: tuple): \n",
    "    \"\"\"\n",
    "    Run softmax evaluation to obtain a single prediction from the model.\n",
    "    Inputs:\n",
    "        Model: ImageTextInferenceEngine\n",
    "        loader: (todo), DataSetLoader\n",
    "        eval_labels: list(str)\n",
    "        pair_template: (todo), tuple(str, str)\n",
    "    Outputs:\n",
    "        preds: list(list) where the first index is the row, and the second index is the label,\n",
    "        the value stored there is the softmax 'probability' of that condition\n",
    "    \"\"\"\n",
    "     # get pos and neg phrases\n",
    "    pos = pair_template[0]\n",
    "    neg = pair_template[1]\n",
    "    \n",
    "    gt = pd.read_csv(cxr_true_labels_path)\n",
    "    \n",
    "    preds= []\n",
    "    \n",
    "    for i, row in gt.iterrows():\n",
    "        new_path = f\"{cxr_png_folder}/{row['Path']}\"\n",
    "        # new_path = f\"{old_path.replace('.png', '.jpg')}\"\n",
    "        # Image.open(old_path).convert('RGB').save(new_path)\n",
    "        \n",
    "        pred_labels = []\n",
    "        \n",
    "        for label in eval_labels:    \n",
    "            \n",
    "            positive_score = model.get_similarity_score_from_raw_data(\n",
    "                image_path=Path(new_path),\n",
    "                query_text=f'{label}')\n",
    "            \n",
    "            negative_score = model.get_similarity_score_from_raw_data(\n",
    "                image_path=Path(new_path),\n",
    "                query_text=f'no {label}')\n",
    "            \n",
    "            sum_pred = np.exp(positive_score) + np.exp(negative_score)\n",
    "            prob = np.exp(positive_score) / sum_pred\n",
    "            \n",
    "            pred_labels.append(prob)\n",
    "        preds.append(pred_labels)\n",
    "        \n",
    "        if i % 100 == 0:\n",
    "            print(f\"Finished {i} images\")\n",
    "    return preds"
   ]
  },
  {
   "cell_type": "code",
   "execution_count": 5,
   "metadata": {},
   "outputs": [
    {
     "name": "stdout",
     "output_type": "stream",
     "text": [
      "Using downloaded and verified file: /tmp/biovil_image_resnet50_proj_size_128.pt\n"
     ]
    },
    {
     "name": "stderr",
     "output_type": "stream",
     "text": [
      "/opt/conda/envs/biovil/lib/python3.9/site-packages/torch/nn/functional.py:718: UserWarning: Named tensors and all their associated APIs are an experimental feature and subject to change. Please do not use them for anything important until they are released as stable. (Triggered internally at  /pytorch/c10/core/TensorImpl.h:1156.)\n",
      "  return torch.max_pool2d(input, kernel_size, stride, padding, dilation, ceil_mode)\n"
     ]
    },
    {
     "name": "stdout",
     "output_type": "stream",
     "text": [
      "0123456789101112131415161718192021222324252627282930313233343536373839404142434445464748495051525354555657585960616263646566676869707172737475767778798081828384858687888990919293949596979899100101102103104105106107108109110111112113114115116117118119120121122123124125126127128129130131132133134135136137138139140141142143144145146147148149150151152153154155156157158159160161162163164165166167168169170171172173174175176177178179180181182183184185186187188189190191192193194195196197198199200201202203204205206207208209210211212213214215216217218219220221222223224225226227228229230231232233234235236237238239240241242243244245246247248249250251252253254255256257258259260261262263264265266267268269270271272273274275276277278279280281282283284285286287288289290291292293294295296297298299300301302303304305306307308309310311312313314315316317318319320321322323324325326327328329330331332333334335336337338339340341342343344345346347348349350351352353354355356357358359360361362363364365366367368369370371372373374375376377378379380381382383384385386387388389390391392393394395396397398399400401402403404405406407408409410411412413414415416417418419420421422423424425426427428429430431432433434435436437438439440441442443444445446447448449450451452453454455456457458459460461462463464465466467468469470471472473474475476477478479480481482483484485486487488489490491492493494495496497498499500501502503504505506507508509510511512513514515516517518519520521522523524525526527528529530531532533534535536537538539540541542543544545546547548549550551552553554555556557558559560561562563564565566567568569570571572573574575576577578579580581582583584585586587588589590591592593594595596597598599600601602603604605606607608609610611612613614615616617618619620621622623624625626627628629630631632633634635636637638639640641642643644645646647648649650651652653654655656657658659660661662663664665666667"
     ]
    }
   ],
   "source": [
    "import torch\n",
    "\n",
    "## Run the model on the data set using ensembled models\n",
    "def ensemble_models(\n",
    "    cxr_filepath: str, \n",
    "    cxr_true_labels_path,\n",
    "    cxr_labels: List[str], \n",
    "    cxr_pair_template: Tuple[str], \n",
    ") -> Tuple[List[np.ndarray], np.ndarray]: \n",
    "    \"\"\"\n",
    "    Input: \n",
    "        cxr_filepath: (str) path to h5\n",
    "        cxr_labels: list(str) path to labels\n",
    "        cxr_pair_template: tuple (template prompt based on the labels)\n",
    "    Output:\n",
    "        pred: list(list) of preds for the cxr_labels\n",
    "    \"\"\"\n",
    "\n",
    "    # Get the biovil models\n",
    "    text_inference = get_cxr_bert_inference()\n",
    "    image_inference = get_biovil_resnet_inference()\n",
    "    image_text_inference = ImageTextInferenceEngine(\n",
    "        image_inference_engine=image_inference,\n",
    "        text_inference_engine=text_inference,)\n",
    "    device = torch.device(\"cuda\" if torch.cuda.is_available() else \"cpu\")\n",
    "    image_text_inference.to(device)\n",
    "    \n",
    "    y_pred = run_softmax_eval(image_text_inference, None, cxr_true_labels_path, cxr_labels, cxr_pair_template)\n",
    "       \n",
    "    return y_pred\n",
    "\n",
    "pred = ensemble_models(cxr_filepath, cxr_true_labels_path, cxr_labels, cxr_pair_template)"
   ]
  },
  {
   "cell_type": "markdown",
   "metadata": {},
   "source": [
    "## (Optional) Evaluate Results\n",
    "If ground truth labels are available, compute AUC on each pathology to evaluate the performance of the zero-shot model. "
   ]
  },
  {
   "cell_type": "code",
   "execution_count": 10,
   "metadata": {},
   "outputs": [
    {
     "name": "stdout",
     "output_type": "stream",
     "text": [
      "path /home/ec2-user/CHEXLOCALIZE/CheXpert/test_labels.csv labs ['No Finding', 'Enlarged Cardiomediastinum', 'Cardiomegaly', 'Lung Opacity', 'Lung Lesion', 'Edema', 'Consolidation', 'Pneumonia', 'Atelectasis', 'Pneumothorax', 'Pleural Effusion', 'Pleural Other', 'Fracture', 'Support Devices']\n",
      "1677.0 668 (668, 14) (668, 14)\n"
     ]
    },
    {
     "data": {
      "application/vnd.jupyter.widget-view+json": {
       "model_id": "0153b6326ab34886bc290c989cad362e",
       "version_major": 2,
       "version_minor": 0
      },
      "text/plain": [
       "  0%|          | 0/1000 [00:00<?, ?it/s]"
      ]
     },
     "metadata": {},
     "output_type": "display_data"
    }
   ],
   "source": [
    "# make test_true\n",
    "test_pred = np.array(pred)\n",
    "print('path', cxr_true_labels_path, 'labs', cxr_labels)\n",
    "\n",
    "test_true = make_true_labels(cxr_true_labels_path=cxr_true_labels_path, cxr_labels=cxr_labels)\n",
    "print(test_true.sum(), len(test_true), test_true.shape, test_pred.shape)\n",
    "\n",
    "# evaluate model\n",
    "cxr_results = evaluate(test_pred, test_true, cxr_labels)\n",
    "\n",
    "# boostrap evaluations for 95% confidence intervals\n",
    "bootstrap_results = bootstrap(test_pred, test_true, cxr_labels)"
   ]
  },
  {
   "cell_type": "code",
   "execution_count": 11,
   "metadata": {},
   "outputs": [
    {
     "data": {
      "text/html": [
       "<div>\n",
       "<style scoped>\n",
       "    .dataframe tbody tr th:only-of-type {\n",
       "        vertical-align: middle;\n",
       "    }\n",
       "\n",
       "    .dataframe tbody tr th {\n",
       "        vertical-align: top;\n",
       "    }\n",
       "\n",
       "    .dataframe thead th {\n",
       "        text-align: right;\n",
       "    }\n",
       "</style>\n",
       "<table border=\"1\" class=\"dataframe\">\n",
       "  <thead>\n",
       "    <tr style=\"text-align: right;\">\n",
       "      <th></th>\n",
       "      <th>No Finding_auc</th>\n",
       "      <th>Enlarged Cardiomediastinum_auc</th>\n",
       "      <th>Cardiomegaly_auc</th>\n",
       "      <th>Lung Opacity_auc</th>\n",
       "      <th>Lung Lesion_auc</th>\n",
       "      <th>Edema_auc</th>\n",
       "      <th>Consolidation_auc</th>\n",
       "      <th>Pneumonia_auc</th>\n",
       "      <th>Atelectasis_auc</th>\n",
       "      <th>Pneumothorax_auc</th>\n",
       "      <th>Pleural Effusion_auc</th>\n",
       "      <th>Pleural Other_auc</th>\n",
       "      <th>Fracture_auc</th>\n",
       "      <th>Support Devices_auc</th>\n",
       "    </tr>\n",
       "  </thead>\n",
       "  <tbody>\n",
       "    <tr>\n",
       "      <th>mean</th>\n",
       "      <td>0.1283</td>\n",
       "      <td>0.8092</td>\n",
       "      <td>0.8228</td>\n",
       "      <td>0.8904</td>\n",
       "      <td>0.7086</td>\n",
       "      <td>0.8050</td>\n",
       "      <td>0.6598</td>\n",
       "      <td>0.7879</td>\n",
       "      <td>0.6753</td>\n",
       "      <td>0.8270</td>\n",
       "      <td>0.8801</td>\n",
       "      <td>0.5989</td>\n",
       "      <td>0.5463</td>\n",
       "      <td>0.6113</td>\n",
       "    </tr>\n",
       "    <tr>\n",
       "      <th>lower</th>\n",
       "      <td>0.0951</td>\n",
       "      <td>0.7755</td>\n",
       "      <td>0.7876</td>\n",
       "      <td>0.8634</td>\n",
       "      <td>0.5888</td>\n",
       "      <td>0.7487</td>\n",
       "      <td>0.5734</td>\n",
       "      <td>0.6110</td>\n",
       "      <td>0.6326</td>\n",
       "      <td>0.6574</td>\n",
       "      <td>0.8476</td>\n",
       "      <td>0.4669</td>\n",
       "      <td>0.2236</td>\n",
       "      <td>0.5606</td>\n",
       "    </tr>\n",
       "    <tr>\n",
       "      <th>upper</th>\n",
       "      <td>0.1656</td>\n",
       "      <td>0.8421</td>\n",
       "      <td>0.8562</td>\n",
       "      <td>0.9149</td>\n",
       "      <td>0.8243</td>\n",
       "      <td>0.8529</td>\n",
       "      <td>0.7373</td>\n",
       "      <td>0.9206</td>\n",
       "      <td>0.7149</td>\n",
       "      <td>0.9199</td>\n",
       "      <td>0.9093</td>\n",
       "      <td>0.7090</td>\n",
       "      <td>0.8170</td>\n",
       "      <td>0.6559</td>\n",
       "    </tr>\n",
       "  </tbody>\n",
       "</table>\n",
       "</div>"
      ],
      "text/plain": [
       "       No Finding_auc  Enlarged Cardiomediastinum_auc  Cardiomegaly_auc  \\\n",
       "mean           0.1283                          0.8092            0.8228   \n",
       "lower          0.0951                          0.7755            0.7876   \n",
       "upper          0.1656                          0.8421            0.8562   \n",
       "\n",
       "       Lung Opacity_auc  Lung Lesion_auc  Edema_auc  Consolidation_auc  \\\n",
       "mean             0.8904           0.7086     0.8050             0.6598   \n",
       "lower            0.8634           0.5888     0.7487             0.5734   \n",
       "upper            0.9149           0.8243     0.8529             0.7373   \n",
       "\n",
       "       Pneumonia_auc  Atelectasis_auc  Pneumothorax_auc  Pleural Effusion_auc  \\\n",
       "mean          0.7879           0.6753            0.8270                0.8801   \n",
       "lower         0.6110           0.6326            0.6574                0.8476   \n",
       "upper         0.9206           0.7149            0.9199                0.9093   \n",
       "\n",
       "       Pleural Other_auc  Fracture_auc  Support Devices_auc  \n",
       "mean              0.5989        0.5463               0.6113  \n",
       "lower             0.4669        0.2236               0.5606  \n",
       "upper             0.7090        0.8170               0.6559  "
      ]
     },
     "execution_count": 11,
     "metadata": {},
     "output_type": "execute_result"
    }
   ],
   "source": [
    "# display AUC with confidence intervals\n",
    "bootstrap_results[1]"
   ]
  },
  {
   "cell_type": "code",
   "execution_count": 15,
   "metadata": {},
   "outputs": [],
   "source": [
    "pd.DataFrame(bootstrap_results[1]).to_csv('biovil_chexpert.csv')"
   ]
  }
 ],
 "metadata": {
  "kernelspec": {
   "display_name": "biovil",
   "language": "python",
   "name": "python3"
  },
  "language_info": {
   "codemirror_mode": {
    "name": "ipython",
    "version": 3
   },
   "file_extension": ".py",
   "mimetype": "text/x-python",
   "name": "python",
   "nbconvert_exporter": "python",
   "pygments_lexer": "ipython3",
   "version": "3.9.13"
  },
  "vscode": {
   "interpreter": {
    "hash": "40a7c3104bea93419b5a5f9395111224032ee64cdac98d0bfb43167b2cb6925c"
   }
  }
 },
 "nbformat": 4,
 "nbformat_minor": 2
}
